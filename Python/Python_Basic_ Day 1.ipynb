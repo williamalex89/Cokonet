{
 "cells": [
  {
   "cell_type": "markdown",
   "id": "0e3fb36c-ecc0-4554-bd15-19bdc24d7239",
   "metadata": {},
   "source": [
    "# <Center> Python Basics"
   ]
  },
  {
   "cell_type": "markdown",
   "id": "e48b9fe1-da92-4183-8058-8bb8ecd20e9c",
   "metadata": {},
   "source": [
    "Class 1 Adding Headers and Numerical Operators"
   ]
  },
  {
   "cell_type": "markdown",
   "id": "5e435d68-a67f-44f5-9ff3-a828cfba5cf3",
   "metadata": {},
   "source": [
    "Headers"
   ]
  },
  {
   "cell_type": "markdown",
   "id": "d709dca7-5aed-404b-8ece-6192af71f44a",
   "metadata": {},
   "source": [
    "# Python"
   ]
  },
  {
   "cell_type": "markdown",
   "id": "8e25ba19-506d-4bce-9927-0bc6c3bc1de1",
   "metadata": {},
   "source": [
    "## Python"
   ]
  },
  {
   "cell_type": "markdown",
   "id": "bdc1df47-5e25-48db-b3d4-8e6b1dc66a6c",
   "metadata": {},
   "source": [
    "### Python"
   ]
  },
  {
   "cell_type": "markdown",
   "id": "f2ad819f-d004-4f1e-9028-37b876578eab",
   "metadata": {},
   "source": [
    "#### Python"
   ]
  },
  {
   "cell_type": "code",
   "execution_count": 21,
   "id": "784a433f-e4b6-4647-a94d-9ab36448d47b",
   "metadata": {},
   "outputs": [],
   "source": [
    "# Comment - Above samples show the different font sizes."
   ]
  },
  {
   "cell_type": "markdown",
   "id": "90ddf924-95c4-4692-ab30-49d1f947bdd3",
   "metadata": {},
   "source": [
    "Numerical Operators"
   ]
  },
  {
   "cell_type": "code",
   "execution_count": 24,
   "id": "6f2ace04-6e0f-4846-8665-04faf22bdb73",
   "metadata": {},
   "outputs": [
    {
     "data": {
      "text/plain": [
       "6"
      ]
     },
     "execution_count": 24,
     "metadata": {},
     "output_type": "execute_result"
    }
   ],
   "source": [
    "2 + 4"
   ]
  },
  {
   "cell_type": "code",
   "execution_count": 26,
   "id": "a40e59a1-569b-4f31-86b2-82f1262c0c54",
   "metadata": {},
   "outputs": [
    {
     "data": {
      "text/plain": [
       "36"
      ]
     },
     "execution_count": 26,
     "metadata": {},
     "output_type": "execute_result"
    }
   ],
   "source": [
    "6 * 6"
   ]
  },
  {
   "cell_type": "code",
   "execution_count": 28,
   "id": "3faa264e-bf88-4e71-872a-8bca9038a389",
   "metadata": {},
   "outputs": [
    {
     "data": {
      "text/plain": [
       "6.0"
      ]
     },
     "execution_count": 28,
     "metadata": {},
     "output_type": "execute_result"
    }
   ],
   "source": [
    "36 / 6"
   ]
  },
  {
   "cell_type": "code",
   "execution_count": 30,
   "id": "501e26cb-fefa-45c7-867e-90e7633dacfd",
   "metadata": {},
   "outputs": [
    {
     "data": {
      "text/plain": [
       "3"
      ]
     },
     "execution_count": 30,
     "metadata": {},
     "output_type": "execute_result"
    }
   ],
   "source": [
    "6 - 3"
   ]
  },
  {
   "cell_type": "code",
   "execution_count": null,
   "id": "a3fb4b13-dbee-4de9-9bb5-886b286aacd3",
   "metadata": {},
   "outputs": [],
   "source": [
    "# Above examples show the 4 numerical operators."
   ]
  }
 ],
 "metadata": {
  "kernelspec": {
   "display_name": "Python [conda env:base] *",
   "language": "python",
   "name": "conda-base-py"
  },
  "language_info": {
   "codemirror_mode": {
    "name": "ipython",
    "version": 3
   },
   "file_extension": ".py",
   "mimetype": "text/x-python",
   "name": "python",
   "nbconvert_exporter": "python",
   "pygments_lexer": "ipython3",
   "version": "3.12.7"
  }
 },
 "nbformat": 4,
 "nbformat_minor": 5
}
