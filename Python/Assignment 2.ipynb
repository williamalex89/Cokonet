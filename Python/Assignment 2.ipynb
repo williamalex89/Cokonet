{
 "cells": [
  {
   "cell_type": "markdown",
   "id": "d7a1abae-5604-4f02-90a1-26bbe7403f7d",
   "metadata": {},
   "source": [
    "# <Center> Data Structures"
   ]
  },
  {
   "cell_type": "markdown",
   "id": "3662f693-19b1-4a1c-b6a9-db3cbee30f96",
   "metadata": {},
   "source": [
    "1) Name- MyName"
   ]
  },
  {
   "cell_type": "code",
   "execution_count": 15,
   "id": "0b6cd227-c49d-4895-a1f3-38644adfd73d",
   "metadata": {},
   "outputs": [],
   "source": [
    "MyName = \"Alex\""
   ]
  },
  {
   "cell_type": "code",
   "execution_count": 17,
   "id": "280e0982-0a82-49ad-9f4d-f091be831ad0",
   "metadata": {},
   "outputs": [
    {
     "name": "stdout",
     "output_type": "stream",
     "text": [
      "Alex\n"
     ]
    }
   ],
   "source": [
    "print (MyName)"
   ]
  },
  {
   "cell_type": "code",
   "execution_count": 25,
   "id": "bc400d50-5951-4cb4-83ad-bec404f8fca2",
   "metadata": {},
   "outputs": [],
   "source": [
    "myname = 'Alex' # used small letters in variable to check the o/p"
   ]
  },
  {
   "cell_type": "code",
   "execution_count": 21,
   "id": "be72f7c0-fa18-4783-ac1e-ba70fb0f7d96",
   "metadata": {},
   "outputs": [
    {
     "name": "stdout",
     "output_type": "stream",
     "text": [
      "Alex\n"
     ]
    }
   ],
   "source": [
    "print (myname)"
   ]
  },
  {
   "cell_type": "code",
   "execution_count": 31,
   "id": "16eb435d-d800-422a-9d3b-bdf43603b42c",
   "metadata": {},
   "outputs": [
    {
     "data": {
      "text/plain": [
       "'Alex'"
      ]
     },
     "execution_count": 31,
     "metadata": {},
     "output_type": "execute_result"
    }
   ],
   "source": [
    "myname # checked to see the output if only variable is entered."
   ]
  },
  {
   "cell_type": "markdown",
   "id": "1e7d4d65-847b-4646-9904-e89272edbcac",
   "metadata": {},
   "source": [
    "2. Text - mytext"
   ]
  },
  {
   "cell_type": "code",
   "execution_count": 35,
   "id": "03cf83a5-0689-4ee0-b343-c2633250f641",
   "metadata": {},
   "outputs": [],
   "source": [
    "mytext = \" Basics of Python\""
   ]
  },
  {
   "cell_type": "code",
   "execution_count": 41,
   "id": "7dde8ef3-a9ba-4e06-a644-dd3b1a122248",
   "metadata": {},
   "outputs": [
    {
     "name": "stdout",
     "output_type": "stream",
     "text": [
      " Basics of Python\n"
     ]
    }
   ],
   "source": [
    "print(mytext)   # Printing the output stored in variable 'Mytext'"
   ]
  },
  {
   "cell_type": "code",
   "execution_count": 43,
   "id": "7cd2737f-8ac2-406a-b6a9-d1df0a3120b6",
   "metadata": {},
   "outputs": [
    {
     "data": {
      "text/plain": [
       "' Basics of Python'"
      ]
     },
     "execution_count": 43,
     "metadata": {},
     "output_type": "execute_result"
    }
   ],
   "source": [
    "mytext # Printing output without 'Print\" data type."
   ]
  },
  {
   "cell_type": "code",
   "execution_count": 52,
   "id": "a7503399-7eda-4532-9777-9b1e011bfc2f",
   "metadata": {},
   "outputs": [],
   "source": [
    "mynumber = 50"
   ]
  },
  {
   "cell_type": "code",
   "execution_count": 54,
   "id": "83d3a9ab-a9a3-4839-8c35-ce1402e15e9c",
   "metadata": {},
   "outputs": [
    {
     "data": {
      "text/plain": [
       "50"
      ]
     },
     "execution_count": 54,
     "metadata": {},
     "output_type": "execute_result"
    }
   ],
   "source": [
    "mynumber"
   ]
  },
  {
   "cell_type": "code",
   "execution_count": 60,
   "id": "e6c4dd99-397d-4013-b88c-ecc082d8cd1b",
   "metadata": {},
   "outputs": [],
   "source": [
    "myfloat = 0.003"
   ]
  },
  {
   "cell_type": "code",
   "execution_count": 62,
   "id": "ff404185-3ff1-4557-a96a-35648de523fd",
   "metadata": {},
   "outputs": [
    {
     "data": {
      "text/plain": [
       "0.003"
      ]
     },
     "execution_count": 62,
     "metadata": {},
     "output_type": "execute_result"
    }
   ],
   "source": [
    "myfloat"
   ]
  },
  {
   "cell_type": "code",
   "execution_count": 70,
   "id": "8db525a0-74fb-4870-9673-444ce52b01b1",
   "metadata": {},
   "outputs": [],
   "source": [
    "mycomplex_number = complex(10, 3)"
   ]
  },
  {
   "cell_type": "code",
   "execution_count": 72,
   "id": "21f3c3a5-2c5b-48d3-9494-f378dd03773f",
   "metadata": {},
   "outputs": [
    {
     "data": {
      "text/plain": [
       "(10+3j)"
      ]
     },
     "execution_count": 72,
     "metadata": {},
     "output_type": "execute_result"
    }
   ],
   "source": [
    "mycomplex_number"
   ]
  },
  {
   "cell_type": "code",
   "execution_count": 76,
   "id": "829daa20-6f4e-48ac-a729-81ac6470c78b",
   "metadata": {},
   "outputs": [],
   "source": [
    "mylist = [1,2,3,4,5,6,7,8,9]"
   ]
  },
  {
   "cell_type": "code",
   "execution_count": 78,
   "id": "222a99c6-44bf-4ec2-9756-25c2c8ef8d7c",
   "metadata": {},
   "outputs": [
    {
     "data": {
      "text/plain": [
       "[1, 2, 3, 4, 5, 6, 7, 8, 9]"
      ]
     },
     "execution_count": 78,
     "metadata": {},
     "output_type": "execute_result"
    }
   ],
   "source": [
    "mylist"
   ]
  },
  {
   "cell_type": "code",
   "execution_count": 82,
   "id": "78ca2005-25bd-453d-9404-09b93ff36e93",
   "metadata": {},
   "outputs": [],
   "source": [
    "mylist = [ 'Alex', 'John' , 'Jerrin'] # Checking mylist data type for string"
   ]
  },
  {
   "cell_type": "code",
   "execution_count": 84,
   "id": "d528770d-9a66-4d48-ad02-b0d554b0b64e",
   "metadata": {},
   "outputs": [
    {
     "data": {
      "text/plain": [
       "['Alex', 'John', 'Jerrin']"
      ]
     },
     "execution_count": 84,
     "metadata": {},
     "output_type": "execute_result"
    }
   ],
   "source": [
    "mylist"
   ]
  },
  {
   "cell_type": "code",
   "execution_count": 99,
   "id": "cae1e7dc-ef10-4a2a-97c1-e38f1087f10c",
   "metadata": {},
   "outputs": [],
   "source": [
    "myfriends = ['Abin','Allan','Ajo']"
   ]
  },
  {
   "cell_type": "code",
   "execution_count": 101,
   "id": "b65b918e-ca43-4f3d-b5ba-00693b17fdfb",
   "metadata": {},
   "outputs": [
    {
     "data": {
      "text/plain": [
       "['Abin', 'Allan', 'Ajo']"
      ]
     },
     "execution_count": 101,
     "metadata": {},
     "output_type": "execute_result"
    }
   ],
   "source": [
    "myfriends"
   ]
  },
  {
   "cell_type": "code",
   "execution_count": 103,
   "id": "b754e8a7-396e-4e35-a8c5-76ab156952f4",
   "metadata": {},
   "outputs": [],
   "source": [
    "electronics = ['TV' , 'Fridge','Mobiles']"
   ]
  },
  {
   "cell_type": "code",
   "execution_count": 105,
   "id": "0cc9c0f3-95ec-412d-a513-bdad546c2237",
   "metadata": {},
   "outputs": [
    {
     "data": {
      "text/plain": [
       "['TV', 'Fridge', 'Mobiles']"
      ]
     },
     "execution_count": 105,
     "metadata": {},
     "output_type": "execute_result"
    }
   ],
   "source": [
    "electronics"
   ]
  },
  {
   "cell_type": "code",
   "execution_count": 115,
   "id": "19556d84-a3c8-4816-b2f0-607e76324d12",
   "metadata": {},
   "outputs": [],
   "source": [
    "mytuple = (1,2,3,4,5,6,7,9)"
   ]
  },
  {
   "cell_type": "code",
   "execution_count": 117,
   "id": "34ac3cd6-b994-4de8-8389-aaefff3f9756",
   "metadata": {},
   "outputs": [
    {
     "data": {
      "text/plain": [
       "(1, 2, 3, 4, 5, 6, 7, 9)"
      ]
     },
     "execution_count": 117,
     "metadata": {},
     "output_type": "execute_result"
    }
   ],
   "source": [
    "mytuple"
   ]
  },
  {
   "cell_type": "code",
   "execution_count": 133,
   "id": "6d1bb7f7-36bc-4e15-bc33-a9e97dc0c2d4",
   "metadata": {},
   "outputs": [
    {
     "data": {
      "text/plain": [
       "1"
      ]
     },
     "execution_count": 133,
     "metadata": {},
     "output_type": "execute_result"
    }
   ],
   "source": [
    "mytuple[0]"
   ]
  },
  {
   "cell_type": "code",
   "execution_count": 163,
   "id": "f4a25d7c-b581-4610-8bd3-b3d0be458a40",
   "metadata": {},
   "outputs": [],
   "source": [
    "electronics[0] = 'Mobiles' # Initially list value 0 was \"TV\" but once changed, it became 'Mobiles'."
   ]
  },
  {
   "cell_type": "code",
   "execution_count": 165,
   "id": "9590da16-1622-4189-ab99-64024aebc5f3",
   "metadata": {},
   "outputs": [
    {
     "data": {
      "text/plain": [
       "'Mobiles'"
      ]
     },
     "execution_count": 165,
     "metadata": {},
     "output_type": "execute_result"
    }
   ],
   "source": [
    "electronics[0]"
   ]
  },
  {
   "cell_type": "code",
   "execution_count": 167,
   "id": "0147bbf1-692c-434e-a039-c548c61605e4",
   "metadata": {
    "scrolled": true
   },
   "outputs": [
    {
     "data": {
      "text/plain": [
       "'Fridge'"
      ]
     },
     "execution_count": 167,
     "metadata": {},
     "output_type": "execute_result"
    }
   ],
   "source": [
    "electronics[1]"
   ]
  },
  {
   "cell_type": "code",
   "execution_count": 169,
   "id": "de98e077-955b-4043-b9c5-9412c601789c",
   "metadata": {},
   "outputs": [
    {
     "data": {
      "text/plain": [
       "'Mobiles'"
      ]
     },
     "execution_count": 169,
     "metadata": {},
     "output_type": "execute_result"
    }
   ],
   "source": [
    "electronics[2] # Electronics list getting changed."
   ]
  },
  {
   "cell_type": "code",
   "execution_count": 171,
   "id": "0a6eff22-dd4c-4b96-a2d8-92d601c192c8",
   "metadata": {},
   "outputs": [],
   "source": [
    "Countries = ('India','Japan', 'Singapore')"
   ]
  },
  {
   "cell_type": "code",
   "execution_count": 175,
   "id": "898bbbc9-5cb1-40f5-b42d-305b47704015",
   "metadata": {
    "scrolled": true
   },
   "outputs": [
    {
     "data": {
      "text/plain": [
       "('India', 'Japan', 'Singapore')"
      ]
     },
     "execution_count": 175,
     "metadata": {},
     "output_type": "execute_result"
    }
   ],
   "source": [
    "Countries                             # variable is character sensitive "
   ]
  },
  {
   "cell_type": "code",
   "execution_count": 183,
   "id": "7aa82657-6930-4c7c-a61d-81d7d34ecb53",
   "metadata": {},
   "outputs": [
    {
     "data": {
      "text/plain": [
       "'India'"
      ]
     },
     "execution_count": 183,
     "metadata": {},
     "output_type": "execute_result"
    }
   ],
   "source": [
    "Countries[0]"
   ]
  },
  {
   "cell_type": "code",
   "execution_count": 179,
   "id": "e115e23c-c7be-4706-8981-3d14f44d70fc",
   "metadata": {},
   "outputs": [
    {
     "ename": "TypeError",
     "evalue": "'tuple' object does not support item assignment",
     "output_type": "error",
     "traceback": [
      "\u001b[1;31m---------------------------------------------------------------------------\u001b[0m",
      "\u001b[1;31mTypeError\u001b[0m                                 Traceback (most recent call last)",
      "Cell \u001b[1;32mIn[179], line 1\u001b[0m\n\u001b[1;32m----> 1\u001b[0m Countries[\u001b[38;5;241m0\u001b[39m] \u001b[38;5;241m=\u001b[39m \u001b[38;5;124m'\u001b[39m\u001b[38;5;124mJapan\u001b[39m\u001b[38;5;124m'\u001b[39m\n",
      "\u001b[1;31mTypeError\u001b[0m: 'tuple' object does not support item assignment"
     ]
    }
   ],
   "source": [
    "Countries[0] = 'Japan' # Unable to change the list position as it is keyed as a tuple."
   ]
  },
  {
   "cell_type": "code",
   "execution_count": 249,
   "id": "3fd6575b-d3a1-4ed2-8e9c-c7fdcbe17e2c",
   "metadata": {},
   "outputs": [],
   "source": [
    "dictionary = {\"a\": 1, \"b\": 2, \"c\" : 3}"
   ]
  },
  {
   "cell_type": "code",
   "execution_count": 251,
   "id": "df9b4cb3-01fa-435e-8ceb-fdeb9c495e6e",
   "metadata": {},
   "outputs": [
    {
     "data": {
      "text/plain": [
       "{'a': 1, 'b': 2, 'c': 3}"
      ]
     },
     "execution_count": 251,
     "metadata": {},
     "output_type": "execute_result"
    }
   ],
   "source": [
    "dictionary"
   ]
  },
  {
   "cell_type": "code",
   "execution_count": null,
   "id": "379b1a55-6a88-43ef-b216-1f4ece891eab",
   "metadata": {},
   "outputs": [],
   "source": []
  },
  {
   "cell_type": "code",
   "execution_count": null,
   "id": "f37b97b7-0108-4cb4-a82c-b02ed2f9a085",
   "metadata": {},
   "outputs": [],
   "source": []
  },
  {
   "cell_type": "markdown",
   "id": "10cdab64-5c5f-4d8f-ae80-7956f56009c5",
   "metadata": {},
   "source": [
    "3. Identifyig Data Types"
   ]
  },
  {
   "cell_type": "code",
   "execution_count": 48,
   "id": "3262639d-e3d9-4722-af4f-cf34ba14c930",
   "metadata": {},
   "outputs": [
    {
     "data": {
      "text/plain": [
       "str"
      ]
     },
     "execution_count": 48,
     "metadata": {},
     "output_type": "execute_result"
    }
   ],
   "source": [
    "type(myname)"
   ]
  },
  {
   "cell_type": "code",
   "execution_count": 50,
   "id": "eaf0091a-1f9f-45b7-8296-987109bd9376",
   "metadata": {},
   "outputs": [
    {
     "data": {
      "text/plain": [
       "str"
      ]
     },
     "execution_count": 50,
     "metadata": {},
     "output_type": "execute_result"
    }
   ],
   "source": [
    "type (mytext)"
   ]
  },
  {
   "cell_type": "code",
   "execution_count": 56,
   "id": "8a9a754a-455e-422b-bdaf-0c3b44ff4f2c",
   "metadata": {},
   "outputs": [
    {
     "data": {
      "text/plain": [
       "int"
      ]
     },
     "execution_count": 56,
     "metadata": {},
     "output_type": "execute_result"
    }
   ],
   "source": [
    "type(mynumber)"
   ]
  },
  {
   "cell_type": "code",
   "execution_count": 64,
   "id": "29cb24af-f333-40f5-8047-5ee3ed9841b5",
   "metadata": {},
   "outputs": [
    {
     "data": {
      "text/plain": [
       "float"
      ]
     },
     "execution_count": 64,
     "metadata": {},
     "output_type": "execute_result"
    }
   ],
   "source": [
    "type(myfloat)"
   ]
  },
  {
   "cell_type": "code",
   "execution_count": 74,
   "id": "9b800b24-ae94-47c6-87bc-8cea6fc4f860",
   "metadata": {},
   "outputs": [
    {
     "data": {
      "text/plain": [
       "complex"
      ]
     },
     "execution_count": 74,
     "metadata": {},
     "output_type": "execute_result"
    }
   ],
   "source": [
    "type(mycomplex_number)"
   ]
  },
  {
   "cell_type": "code",
   "execution_count": 88,
   "id": "b9fde0b7-3e3e-478a-be66-1b639312b8dd",
   "metadata": {},
   "outputs": [
    {
     "data": {
      "text/plain": [
       "list"
      ]
     },
     "execution_count": 88,
     "metadata": {},
     "output_type": "execute_result"
    }
   ],
   "source": [
    "type(mylist)"
   ]
  },
  {
   "cell_type": "code",
   "execution_count": 107,
   "id": "099cb4dd-4636-4747-8417-3d9de1ef3bb1",
   "metadata": {},
   "outputs": [
    {
     "data": {
      "text/plain": [
       "list"
      ]
     },
     "execution_count": 107,
     "metadata": {},
     "output_type": "execute_result"
    }
   ],
   "source": [
    "type(electronics)"
   ]
  },
  {
   "cell_type": "code",
   "execution_count": 119,
   "id": "96a24f59-6cb2-40c0-8456-06f142e07adb",
   "metadata": {},
   "outputs": [
    {
     "data": {
      "text/plain": [
       "tuple"
      ]
     },
     "execution_count": 119,
     "metadata": {},
     "output_type": "execute_result"
    }
   ],
   "source": [
    "type(mytuple)"
   ]
  },
  {
   "cell_type": "code",
   "execution_count": 253,
   "id": "9797d376-d472-45fc-8447-f753de36c620",
   "metadata": {},
   "outputs": [
    {
     "data": {
      "text/plain": [
       "dict"
      ]
     },
     "execution_count": 253,
     "metadata": {},
     "output_type": "execute_result"
    }
   ],
   "source": [
    "type(dictionary)"
   ]
  },
  {
   "cell_type": "markdown",
   "id": "b8438016-f3e6-4c5d-b9d0-fd72aba80627",
   "metadata": {},
   "source": [
    " 4. Typecasting"
   ]
  },
  {
   "cell_type": "code",
   "execution_count": 265,
   "id": "1f2deda0-a31a-4438-89fa-5b94615a9c7b",
   "metadata": {},
   "outputs": [],
   "source": [
    "value = 100"
   ]
  },
  {
   "cell_type": "code",
   "execution_count": 268,
   "id": "86073d94-1cb4-49e4-8597-4c81859a3124",
   "metadata": {},
   "outputs": [
    {
     "data": {
      "text/plain": [
       "100"
      ]
     },
     "execution_count": 268,
     "metadata": {},
     "output_type": "execute_result"
    }
   ],
   "source": [
    "value"
   ]
  },
  {
   "cell_type": "code",
   "execution_count": 271,
   "id": "668755e0-6806-4397-9dfb-7c18aa580855",
   "metadata": {},
   "outputs": [
    {
     "data": {
      "text/plain": [
       "int"
      ]
     },
     "execution_count": 271,
     "metadata": {},
     "output_type": "execute_result"
    }
   ],
   "source": [
    "type(value)"
   ]
  },
  {
   "cell_type": "code",
   "execution_count": 273,
   "id": "684da3f5-3a02-4668-8933-3d46f5aba8e5",
   "metadata": {},
   "outputs": [],
   "source": [
    "num_float = float(value)"
   ]
  },
  {
   "cell_type": "code",
   "execution_count": 275,
   "id": "f4a7862a-70ad-4693-b0da-70782ca85bfc",
   "metadata": {},
   "outputs": [
    {
     "data": {
      "text/plain": [
       "100.0"
      ]
     },
     "execution_count": 275,
     "metadata": {},
     "output_type": "execute_result"
    }
   ],
   "source": [
    "num_float"
   ]
  },
  {
   "cell_type": "code",
   "execution_count": 279,
   "id": "14ed8196-e716-4509-adfd-3999514ed93b",
   "metadata": {},
   "outputs": [
    {
     "data": {
      "text/plain": [
       "float"
      ]
     },
     "execution_count": 279,
     "metadata": {},
     "output_type": "execute_result"
    }
   ],
   "source": [
    "type(num_float)"
   ]
  },
  {
   "cell_type": "code",
   "execution_count": 281,
   "id": "722faf86-28ea-4419-a919-8e657bb5ccd1",
   "metadata": {},
   "outputs": [
    {
     "data": {
      "text/plain": [
       "int"
      ]
     },
     "execution_count": 281,
     "metadata": {},
     "output_type": "execute_result"
    }
   ],
   "source": [
    "type(value)"
   ]
  },
  {
   "cell_type": "code",
   "execution_count": null,
   "id": "4518b2c4-14a5-4414-a198-4935183118c7",
   "metadata": {},
   "outputs": [],
   "source": []
  }
 ],
 "metadata": {
  "kernelspec": {
   "display_name": "Python [conda env:base] *",
   "language": "python",
   "name": "conda-base-py"
  },
  "language_info": {
   "codemirror_mode": {
    "name": "ipython",
    "version": 3
   },
   "file_extension": ".py",
   "mimetype": "text/x-python",
   "name": "python",
   "nbconvert_exporter": "python",
   "pygments_lexer": "ipython3",
   "version": "3.12.7"
  }
 },
 "nbformat": 4,
 "nbformat_minor": 5
}
